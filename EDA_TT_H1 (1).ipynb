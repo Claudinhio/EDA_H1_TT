{
 "cells": [
  {
   "cell_type": "markdown",
   "id": "1637a4ff-47fb-42ad-99a2-8050d42dcff5",
   "metadata": {},
   "source": [
    "# Proyecto TT H1"
   ]
  },
  {
   "cell_type": "markdown",
   "id": "b1d1764f-9ba2-4e21-8955-a5669a3ab70f",
   "metadata": {},
   "source": [
    "## Importación y carga"
   ]
  },
  {
   "cell_type": "code",
   "execution_count": 3,
   "id": "3ffa8be4-17ad-48d5-bb14-269bd07318b1",
   "metadata": {},
   "outputs": [],
   "source": [
    "import pandas as pd\n",
    "import matplotlib.pyplot as plt\n",
    "import seaborn as sns\n",
    "import numpy as np\n",
    "\n",
    "from sklearn.preprocessing import StandardScaler\n",
    "from sklearn.cluster import KMeans\n",
    "from sklearn.metrics import silhouette_score\n",
    "from sklearn.model_selection import train_test_split\n",
    "from sklearn.ensemble import RandomForestClassifier\n",
    "from sklearn.metrics import accuracy_score\n",
    "from sklearn.tree import DecisionTreeClassifier\n",
    "from mpl_toolkits.mplot3d import Axes3D"
   ]
  },
  {
   "cell_type": "code",
   "execution_count": 4,
   "id": "5e78cb4e-b5a1-405c-b499-ff0b43c0c8ff",
   "metadata": {},
   "outputs": [],
   "source": [
    "df = pd.read_csv('Online_Retail.csv', encoding='ISO-8859-1')"
   ]
  },
  {
   "cell_type": "markdown",
   "id": "32360b5d-3bcd-4223-9a6f-60d436cce2d9",
   "metadata": {},
   "source": [
    "## Exploración del Dataset"
   ]
  },
  {
   "cell_type": "code",
   "execution_count": 6,
   "id": "fdb5ceba-a9f0-4f36-84ad-bc0292447fd4",
   "metadata": {},
   "outputs": [
    {
     "name": "stdout",
     "output_type": "stream",
     "text": [
      "<class 'pandas.core.frame.DataFrame'>\n",
      "RangeIndex: 541909 entries, 0 to 541908\n",
      "Data columns (total 8 columns):\n",
      " #   Column        Non-Null Count   Dtype  \n",
      "---  ------        --------------   -----  \n",
      " 0   invoice_no    541909 non-null  object \n",
      " 1   stock_code    541909 non-null  object \n",
      " 2   description   540455 non-null  object \n",
      " 3   quantity      541909 non-null  int64  \n",
      " 4   invoice_date  541909 non-null  object \n",
      " 5   unit_price    541909 non-null  float64\n",
      " 6   customer_id   406829 non-null  float64\n",
      " 7   region        541909 non-null  object \n",
      "dtypes: float64(2), int64(1), object(5)\n",
      "memory usage: 33.1+ MB\n"
     ]
    },
    {
     "data": {
      "text/plain": [
       "None"
      ]
     },
     "metadata": {},
     "output_type": "display_data"
    },
    {
     "name": "stdout",
     "output_type": "stream",
     "text": [
      "\n",
      " 'Varlores Nulos'\n"
     ]
    },
    {
     "data": {
      "text/plain": [
       "invoice_no           0\n",
       "stock_code           0\n",
       "description       1454\n",
       "quantity             0\n",
       "invoice_date         0\n",
       "unit_price           0\n",
       "customer_id     135080\n",
       "region               0\n",
       "dtype: int64"
      ]
     },
     "metadata": {},
     "output_type": "display_data"
    },
    {
     "name": "stdout",
     "output_type": "stream",
     "text": [
      "\n",
      " 'Valores Duplicados'\n"
     ]
    },
    {
     "data": {
      "text/plain": [
       "5268"
      ]
     },
     "metadata": {},
     "output_type": "display_data"
    },
    {
     "name": "stdout",
     "output_type": "stream",
     "text": [
      "\n",
      " 'Valores Duplicados'\n"
     ]
    },
    {
     "data": {
      "text/html": [
       "<div>\n",
       "<style scoped>\n",
       "    .dataframe tbody tr th:only-of-type {\n",
       "        vertical-align: middle;\n",
       "    }\n",
       "\n",
       "    .dataframe tbody tr th {\n",
       "        vertical-align: top;\n",
       "    }\n",
       "\n",
       "    .dataframe thead th {\n",
       "        text-align: right;\n",
       "    }\n",
       "</style>\n",
       "<table border=\"1\" class=\"dataframe\">\n",
       "  <thead>\n",
       "    <tr style=\"text-align: right;\">\n",
       "      <th></th>\n",
       "      <th>invoice_no</th>\n",
       "      <th>stock_code</th>\n",
       "      <th>description</th>\n",
       "      <th>quantity</th>\n",
       "      <th>invoice_date</th>\n",
       "      <th>unit_price</th>\n",
       "      <th>customer_id</th>\n",
       "      <th>region</th>\n",
       "    </tr>\n",
       "  </thead>\n",
       "  <tbody>\n",
       "    <tr>\n",
       "      <th>0</th>\n",
       "      <td>536365</td>\n",
       "      <td>85123A</td>\n",
       "      <td>WHITE HANGING HEART T-LIGHT HOLDER</td>\n",
       "      <td>6</td>\n",
       "      <td>01/12/2019 08:26</td>\n",
       "      <td>2.55</td>\n",
       "      <td>17850.0</td>\n",
       "      <td>United Kingdom</td>\n",
       "    </tr>\n",
       "    <tr>\n",
       "      <th>1</th>\n",
       "      <td>536365</td>\n",
       "      <td>71053</td>\n",
       "      <td>WHITE METAL LANTERN</td>\n",
       "      <td>6</td>\n",
       "      <td>01/12/2019 08:26</td>\n",
       "      <td>3.39</td>\n",
       "      <td>17850.0</td>\n",
       "      <td>United Kingdom</td>\n",
       "    </tr>\n",
       "    <tr>\n",
       "      <th>2</th>\n",
       "      <td>536365</td>\n",
       "      <td>84406B</td>\n",
       "      <td>CREAM CUPID HEARTS COAT HANGER</td>\n",
       "      <td>8</td>\n",
       "      <td>01/12/2019 08:26</td>\n",
       "      <td>2.75</td>\n",
       "      <td>17850.0</td>\n",
       "      <td>United Kingdom</td>\n",
       "    </tr>\n",
       "    <tr>\n",
       "      <th>3</th>\n",
       "      <td>536365</td>\n",
       "      <td>84029G</td>\n",
       "      <td>KNITTED UNION FLAG HOT WATER BOTTLE</td>\n",
       "      <td>6</td>\n",
       "      <td>01/12/2019 08:26</td>\n",
       "      <td>3.39</td>\n",
       "      <td>17850.0</td>\n",
       "      <td>United Kingdom</td>\n",
       "    </tr>\n",
       "    <tr>\n",
       "      <th>4</th>\n",
       "      <td>536365</td>\n",
       "      <td>84029E</td>\n",
       "      <td>RED WOOLLY HOTTIE WHITE HEART.</td>\n",
       "      <td>6</td>\n",
       "      <td>01/12/2019 08:26</td>\n",
       "      <td>3.39</td>\n",
       "      <td>17850.0</td>\n",
       "      <td>United Kingdom</td>\n",
       "    </tr>\n",
       "  </tbody>\n",
       "</table>\n",
       "</div>"
      ],
      "text/plain": [
       "  invoice_no stock_code                          description  quantity  \\\n",
       "0     536365     85123A   WHITE HANGING HEART T-LIGHT HOLDER         6   \n",
       "1     536365      71053                  WHITE METAL LANTERN         6   \n",
       "2     536365     84406B       CREAM CUPID HEARTS COAT HANGER         8   \n",
       "3     536365     84029G  KNITTED UNION FLAG HOT WATER BOTTLE         6   \n",
       "4     536365     84029E       RED WOOLLY HOTTIE WHITE HEART.         6   \n",
       "\n",
       "       invoice_date  unit_price  customer_id          region  \n",
       "0  01/12/2019 08:26        2.55      17850.0  United Kingdom  \n",
       "1  01/12/2019 08:26        3.39      17850.0  United Kingdom  \n",
       "2  01/12/2019 08:26        2.75      17850.0  United Kingdom  \n",
       "3  01/12/2019 08:26        3.39      17850.0  United Kingdom  \n",
       "4  01/12/2019 08:26        3.39      17850.0  United Kingdom  "
      ]
     },
     "metadata": {},
     "output_type": "display_data"
    }
   ],
   "source": [
    "# Inspeccionar y visualizar datos\n",
    "df.columns = df.columns.str.lower()\n",
    "display(df.info())\n",
    "print(\"\\n 'Varlores Nulos'\")\n",
    "display(df.isnull().sum())\n",
    "print(\"\\n 'Valores Duplicados'\")\n",
    "display(df.duplicated().sum())\n",
    "print(\"\\n 'Valores Duplicados'\")\n",
    "display(df.head())"
   ]
  },
  {
   "cell_type": "markdown",
   "id": "2fa1c915-60db-4df0-8e83-51e7cd37c2c6",
   "metadata": {},
   "source": [
    "## Preprocesamiento de los datos"
   ]
  },
  {
   "cell_type": "code",
   "execution_count": 8,
   "id": "441e6e50-223f-486e-8aef-8a0ddca6b640",
   "metadata": {},
   "outputs": [
    {
     "name": "stdout",
     "output_type": "stream",
     "text": [
      "\n",
      " Valores nulos nuevamente\n",
      "invoice_no      0\n",
      "stock_code      0\n",
      "description     0\n",
      "quantity        0\n",
      "invoice_date    0\n",
      "unit_price      0\n",
      "customer_id     0\n",
      "region          0\n",
      "dtype: int64\n",
      "\n",
      "\n",
      "Número de filas duplicadas después de la eliminación: 0\n"
     ]
    }
   ],
   "source": [
    "# Manejar valores nulos en 'customer_id'\n",
    "# Vamos a eliminar las filas sin customer_id, ya que no podemos hacer segmentación sin esta información\n",
    "df = df.dropna(subset=['customer_id'])\n",
    "\n",
    "# Verificar valores nulos nuevamente\n",
    "print(\"\\n Valores nulos nuevamente\")\n",
    "print(df.isnull().sum())\n",
    "print(\"\\n\")\n",
    "\n",
    "# Eliminar duplicados\n",
    "df = df.drop_duplicates()\n",
    "\n",
    "# Verificar duplicados nuevamente\n",
    "duplicados = df.duplicated().sum()\n",
    "print(f\"Número de filas duplicadas después de la eliminación: {duplicados}\")"
   ]
  },
  {
   "cell_type": "code",
   "execution_count": 9,
   "id": "700979d5-5013-4e17-8475-6581eaa063b2",
   "metadata": {},
   "outputs": [
    {
     "name": "stdout",
     "output_type": "stream",
     "text": [
      "datetime64[ns]\n"
     ]
    }
   ],
   "source": [
    "# Convertir 'invoice_date' a datetime\n",
    "df['invoice_date'] = pd.to_datetime(df['invoice_date'], format=\"%d/%m/%Y %H:%M\")\n",
    "\n",
    "# Verificar el tipo de dato de 'invoice_date'\n",
    "print(df['invoice_date'].dtype)"
   ]
  },
  {
   "cell_type": "code",
   "execution_count": 10,
   "id": "1d6f880b-c8ea-45f3-b687-60a481516e86",
   "metadata": {},
   "outputs": [
    {
     "data": {
      "text/html": [
       "<div>\n",
       "<style scoped>\n",
       "    .dataframe tbody tr th:only-of-type {\n",
       "        vertical-align: middle;\n",
       "    }\n",
       "\n",
       "    .dataframe tbody tr th {\n",
       "        vertical-align: top;\n",
       "    }\n",
       "\n",
       "    .dataframe thead th {\n",
       "        text-align: right;\n",
       "    }\n",
       "</style>\n",
       "<table border=\"1\" class=\"dataframe\">\n",
       "  <thead>\n",
       "    <tr style=\"text-align: right;\">\n",
       "      <th></th>\n",
       "      <th>quantity</th>\n",
       "      <th>invoice_date</th>\n",
       "      <th>unit_price</th>\n",
       "      <th>customer_id</th>\n",
       "    </tr>\n",
       "  </thead>\n",
       "  <tbody>\n",
       "    <tr>\n",
       "      <th>count</th>\n",
       "      <td>401604.000000</td>\n",
       "      <td>401604</td>\n",
       "      <td>401604.000000</td>\n",
       "      <td>401604.000000</td>\n",
       "    </tr>\n",
       "    <tr>\n",
       "      <th>mean</th>\n",
       "      <td>12.183273</td>\n",
       "      <td>2020-07-10 08:03:59.659963904</td>\n",
       "      <td>3.474064</td>\n",
       "      <td>15281.160818</td>\n",
       "    </tr>\n",
       "    <tr>\n",
       "      <th>min</th>\n",
       "      <td>-80995.000000</td>\n",
       "      <td>2019-12-01 08:26:00</td>\n",
       "      <td>0.000000</td>\n",
       "      <td>12346.000000</td>\n",
       "    </tr>\n",
       "    <tr>\n",
       "      <th>25%</th>\n",
       "      <td>2.000000</td>\n",
       "      <td>2020-04-06 15:02:00</td>\n",
       "      <td>1.250000</td>\n",
       "      <td>13939.000000</td>\n",
       "    </tr>\n",
       "    <tr>\n",
       "      <th>50%</th>\n",
       "      <td>5.000000</td>\n",
       "      <td>2020-07-29 15:40:00</td>\n",
       "      <td>1.950000</td>\n",
       "      <td>15145.000000</td>\n",
       "    </tr>\n",
       "    <tr>\n",
       "      <th>75%</th>\n",
       "      <td>12.000000</td>\n",
       "      <td>2020-10-20 11:58:30</td>\n",
       "      <td>3.750000</td>\n",
       "      <td>16784.000000</td>\n",
       "    </tr>\n",
       "    <tr>\n",
       "      <th>max</th>\n",
       "      <td>80995.000000</td>\n",
       "      <td>2020-12-09 12:50:00</td>\n",
       "      <td>38970.000000</td>\n",
       "      <td>18287.000000</td>\n",
       "    </tr>\n",
       "    <tr>\n",
       "      <th>std</th>\n",
       "      <td>250.283037</td>\n",
       "      <td>NaN</td>\n",
       "      <td>69.764035</td>\n",
       "      <td>1714.006089</td>\n",
       "    </tr>\n",
       "  </tbody>\n",
       "</table>\n",
       "</div>"
      ],
      "text/plain": [
       "            quantity                   invoice_date     unit_price  \\\n",
       "count  401604.000000                         401604  401604.000000   \n",
       "mean       12.183273  2020-07-10 08:03:59.659963904       3.474064   \n",
       "min    -80995.000000            2019-12-01 08:26:00       0.000000   \n",
       "25%         2.000000            2020-04-06 15:02:00       1.250000   \n",
       "50%         5.000000            2020-07-29 15:40:00       1.950000   \n",
       "75%        12.000000            2020-10-20 11:58:30       3.750000   \n",
       "max     80995.000000            2020-12-09 12:50:00   38970.000000   \n",
       "std       250.283037                            NaN      69.764035   \n",
       "\n",
       "         customer_id  \n",
       "count  401604.000000  \n",
       "mean    15281.160818  \n",
       "min     12346.000000  \n",
       "25%     13939.000000  \n",
       "50%     15145.000000  \n",
       "75%     16784.000000  \n",
       "max     18287.000000  \n",
       "std      1714.006089  "
      ]
     },
     "execution_count": 10,
     "metadata": {},
     "output_type": "execute_result"
    }
   ],
   "source": [
    "df.describe()"
   ]
  },
  {
   "cell_type": "code",
   "execution_count": 11,
   "id": "39abaa6d-2e44-4960-83d9-5e9b2dd28600",
   "metadata": {},
   "outputs": [
    {
     "name": "stdout",
     "output_type": "stream",
     "text": [
      "            quantity     unit_price\n",
      "count  392692.000000  392692.000000\n",
      "mean       13.119702       3.125914\n",
      "std       180.492832      22.241836\n",
      "min         1.000000       0.001000\n",
      "25%         2.000000       1.250000\n",
      "50%         6.000000       1.950000\n",
      "75%        12.000000       3.750000\n",
      "max     80995.000000    8142.750000\n"
     ]
    }
   ],
   "source": [
    "# Eliminar registros con cantidad o precio unitario negativos\n",
    "df = df[(df['quantity'] > 0) & (df['unit_price'] > 0)]\n",
    "\n",
    "# Verificar el rango de 'quantity' y 'unit_price'\n",
    "print(df[['quantity', 'unit_price']].describe())"
   ]
  },
  {
   "cell_type": "markdown",
   "id": "18ff6b11-41b3-40e3-9f0d-ff7e1ef2e590",
   "metadata": {},
   "source": [
    "Estadísticas de quantity y unit_price:\n",
    "\n",
    "La cantidad media de artículos por orden es de 13.12, pero con una desviación estándar alta (180.49), lo que indica una gran variabilidad.\n",
    "El precio unitario medio es de 3.13, pero también con alta variabilidad (desviación estándar de 22.24).\n",
    "Hay algunos valores extremos, con un máximo de 80,995 para quantity y 8,142.75 para unit_price."
   ]
  },
  {
   "cell_type": "markdown",
   "id": "233cabd8-9354-4548-b7b5-2fa6729fa56d",
   "metadata": {},
   "source": [
    "### Análisis RFM"
   ]
  },
  {
   "cell_type": "code",
   "execution_count": 14,
   "id": "947a2636-8c40-4332-8674-6b233e0f89f9",
   "metadata": {},
   "outputs": [
    {
     "name": "stdout",
     "output_type": "stream",
     "text": [
      "             recency  frequency  monetary\n",
      "customer_id                              \n",
      "12346            326          1  77183.60\n",
      "12347              1        182   4310.00\n",
      "12348             74         31   1797.24\n",
      "12349             18         73   1757.55\n",
      "12350            310         17    334.40\n",
      "           recency    frequency       monetary\n",
      "count  4338.000000  4338.000000    4338.000000\n",
      "mean     91.610650    90.523744    2048.688081\n",
      "std     100.191727   225.506968    8985.230220\n",
      "min       0.000000     1.000000       3.750000\n",
      "25%      17.000000    17.000000     306.482500\n",
      "50%      50.000000    41.000000     668.570000\n",
      "75%     141.000000    98.000000    1660.597500\n",
      "max     374.000000  7676.000000  280206.020000\n",
      "recency      0\n",
      "frequency    0\n",
      "monetary     0\n",
      "dtype: int64\n"
     ]
    }
   ],
   "source": [
    "# Primero, asegurémonos de que 'customer_id' sea de tipo entero\n",
    "df['customer_id'] = df['customer_id'].astype(int)\n",
    "\n",
    "# Calcular el valor monetario total por transacción\n",
    "df['total_price'] = df['quantity'] * df['unit_price']\n",
    "\n",
    "# Encontrar la fecha más reciente en el dataset\n",
    "max_date = df['invoice_date'].max()\n",
    "\n",
    "# Calcular RFM\n",
    "rfm = df.groupby('customer_id').agg({\n",
    "    'invoice_date': lambda x: (max_date - x.max()).days,  # Recency\n",
    "    'invoice_no': 'count',  # Frequency\n",
    "    'total_price': 'sum'  # Monetary\n",
    "})\n",
    "\n",
    "# Renombrar las columnas\n",
    "rfm.columns = ['recency', 'frequency', 'monetary']\n",
    "\n",
    "# Asegurarse de que 'monetary' no tenga valores negativos\n",
    "rfm = rfm[rfm['monetary'] > 0]\n",
    "\n",
    "# Mostrar las primeras filas del dataframe RFM\n",
    "print(rfm.head())\n",
    "\n",
    "# Mostrar estadísticas descriptivas del dataframe RFM\n",
    "print(rfm.describe())\n",
    "\n",
    "# Verificar si hay valores nulos en el dataframe RFM\n",
    "print(rfm.isnull().sum())"
   ]
  },
  {
   "cell_type": "markdown",
   "id": "2e341fcd-8c12-481b-afe8-66003a90cfea",
   "metadata": {},
   "source": [
    "Estadísticas RFM:\n",
    "\n",
    "- Recency: La media es de 91.61 días, con un mínimo de 0 y un máximo de 374 días.\n",
    "- Frequency: En promedio, los clientes han realizado 90.52 compras, pero hay una gran variabilidad (desviación estándar de 225.51).\n",
    "- Monetary: El gasto promedio por cliente es de 2,048.69, pero con una desviación estándar muy alta (8,985.23), indicando una gran dispersión en el gasto.\n",
    "\n",
    "No hay valores nulos en las métricas RFM, lo cual es bueno para el análisis."
   ]
  },
  {
   "cell_type": "code",
   "execution_count": 16,
   "id": "e0af1aa3-e941-45e0-8474-9696f995cb2d",
   "metadata": {},
   "outputs": [
    {
     "name": "stdout",
     "output_type": "stream",
     "text": [
      "Name: seaborn\n",
      "Version: 0.12.2\n",
      "Summary: Statistical data visualization\n",
      "Home-page: \n",
      "Author: \n",
      "Author-email: Michael Waskom <mwaskom@gmail.com>\n",
      "License: \n",
      "Location: /Users/claudio.merino/anaconda3/lib/python3.11/site-packages\n",
      "Requires: matplotlib, numpy, pandas\n",
      "Required-by: \n"
     ]
    }
   ],
   "source": [
    "!pip show seaborn"
   ]
  },
  {
   "cell_type": "code",
   "execution_count": null,
   "id": "3610abb6-f17c-46fe-955a-48ce8f6dc99d",
   "metadata": {},
   "outputs": [
    {
     "name": "stderr",
     "output_type": "stream",
     "text": [
      "/Users/claudio.merino/anaconda3/lib/python3.11/site-packages/seaborn/_oldcore.py:1119: FutureWarning: use_inf_as_na option is deprecated and will be removed in a future version. Convert inf values to NaN before operating instead.\n",
      "  with pd.option_context('mode.use_inf_as_na', True):\n"
     ]
    },
    {
     "data": {
      "image/png": "[encoded data removed]",
      "text/plain": [
       "<Figure size 1000x600 with 1 Axes>"
      ]
     },
     "metadata": {},
     "output_type": "display_data"
    },
    {
     "name": "stderr",
     "output_type": "stream",
     "text": [
      "/Users/claudio.merino/anaconda3/lib/python3.11/site-packages/seaborn/_oldcore.py:1119: FutureWarning: use_inf_as_na option is deprecated and will be removed in a future version. Convert inf values to NaN before operating instead.\n",
      "  with pd.option_context('mode.use_inf_as_na', True):\n"
     ]
    }
   ],
   "source": [
    "# Configurar el estilo de las gráficas\n",
    "plt.style.use('seaborn-v0_8')\n",
    "sns.set_palette(\"deep\")\n",
    "# Función para crear histogramas\n",
    "def plot_distribution(dataframe, column):\n",
    "    plt.figure(figsize=(10, 6))\n",
    "    sns.histplot(data=dataframe, x=column, kde=True)\n",
    "    plt.title(f'Distribución de {column.capitalize()}')\n",
    "    plt.xlabel(column.capitalize())\n",
    "    plt.ylabel('Frecuencia')\n",
    "    plt.show()\n",
    "\n",
    "# Crear histogramas para cada métrica RFM\n",
    "for column in ['recency', 'frequency', 'monetary']:\n",
    "    plot_distribution(rfm, column)"
   ]
  },
  {
   "cell_type": "markdown",
   "id": "1418a24f-7749-4ed8-9b59-5e7545adb69a",
   "metadata": {},
   "source": [
    "- Distribución de Recency:\n",
    "\n",
    "La gráfica muestra una distribución asimétrica positiva (cola hacia la derecha).\n",
    "Hay una alta concentración de clientes con recency baja (cerca de 0), lo que indica que muchos clientes han realizado compras recientemente.\n",
    "Hay una cola larga hacia la derecha, lo que sugiere que algunos clientes no han comprado en mucho tiempo.\n",
    "\n",
    "- Distribución de Frequency:\n",
    "\n",
    "Muestra una distribución extremadamente asimétrica positiva (cola larga a la derecha).\n",
    "La gran mayoría de los clientes tienen una frecuencia de compra baja (cerca de 0).\n",
    "Hay unos pocos clientes con frecuencias de compra muy altas (hasta 7000+).\n",
    "\n",
    "\n",
    "- Distribución de Monetary:\n",
    "\n",
    "También presenta una distribución muy asimétrica positiva.\n",
    "La mayoría de los clientes tienen un valor monetario bajo.\n",
    "Hay algunos clientes con valores monetarios extremadamente altos (hasta 250,000+)."
   ]
  },
  {
   "cell_type": "code",
   "execution_count": null,
   "id": "631c4f96-4ada-407d-a8e4-5ec9a7a5925d",
   "metadata": {},
   "outputs": [],
   "source": [
    "# Boxplots para cada métrica RFM\n",
    "plt.figure(figsize=(15, 5))\n",
    "for i, column in enumerate(['recency', 'frequency', 'monetary'], 1):\n",
    "    plt.subplot(1, 3, i)\n",
    "    sns.boxplot(y=rfm[column])\n",
    "    plt.title(f'Boxplot de {column.capitalize()}')\n",
    "plt.tight_layout()\n",
    "plt.show()"
   ]
  },
  {
   "cell_type": "code",
   "execution_count": null,
   "id": "19cf5a56-2b49-4030-88dd-4cda370be7b9",
   "metadata": {},
   "outputs": [],
   "source": [
    "# Para cada métrica RFM\n",
    "for column in ['recency', 'frequency', 'monetary']:\n",
    "    print(f\"\\nEstadísticas para {column.capitalize()}:\")\n",
    "    stats = rfm[column].describe(percentiles=[.25, .5, .75])\n",
    "    print(stats)\n",
    "    \n",
    "    # Cálculo del IQR y límites para outliers\n",
    "    Q1 = stats['25%']\n",
    "    Q3 = stats['75%']\n",
    "    IQR = Q3 - Q1\n",
    "    lower_bound = Q1 - 1.5 * IQR\n",
    "    upper_bound = Q3 + 1.5 * IQR\n",
    "    \n",
    "    print(f\"Límite inferior para outliers: {lower_bound}\")\n",
    "    print(f\"Límite superior para outliers: {upper_bound}\")\n",
    "    print(f\"Número de outliers inferiores: {sum(rfm[column] < lower_bound)}\")\n",
    "    print(f\"Número de outliers superiores: {sum(rfm[column] > upper_bound)}\")"
   ]
  },
  {
   "cell_type": "markdown",
   "id": "b35d2674-c362-4e16-bec4-4c2a2aa0d498",
   "metadata": {},
   "source": [
    "Gracias por proporcionar estos datos detallados. Vamos a analizarlos para cada métrica RFM:\n",
    "\n",
    "## Recency:\n",
    "   - La recencia media es de 91.61 días, con una mediana de 50 días.\n",
    "   - El 75% de los clientes han comprado en los últimos 141 días.\n",
    "   - Hay 155 clientes (3.57%) considerados outliers superiores, que no han comprado en más de 327 días.\n",
    "   - La distribución es asimétrica positiva (media > mediana), lo que indica una cola larga hacia la derecha.\n",
    "\n",
    "## Frequency:\n",
    "   - La frecuencia media de compra es 90.52, pero la mediana es solo 41, indicando una fuerte asimetría positiva.\n",
    "   - El 75% de los clientes han realizado 98 o menos compras.\n",
    "   - Hay 381 clientes (8.78%) considerados outliers superiores, con más de 219.5 compras.\n",
    "   - El máximo de 7676 compras sugiere la presencia de algunos clientes extremadamente frecuentes.\n",
    "\n",
    "## Monetary:\n",
    "   - El valor monetario medio es de 2048.69, pero la mediana es solo 668.57, indicando una fuerte asimetría positiva.\n",
    "   - El 75% de los clientes han gastado 1660.60 o menos.\n",
    "   - Hay 425 clientes (9.80%) considerados outliers superiores, gastando más de 3691.77.\n",
    "   - El máximo de 280,206.02 sugiere la presencia de algunos clientes de muy alto valor.\n",
    "\n",
    "## Conclusiones y recomendaciones:\n",
    "\n",
    "- Asimetría: Todas las métricas muestran una fuerte asimetría positiva, especialmente Frequency y Monetary. Esto refuerza la necesidad de una transformación logarítmica antes del clustering.\n",
    "\n",
    "- **Outliers**: Hay un número significativo de outliers superiores en todas las métricas, especialmente en Frequency y Monetary. Estos representan clientes de alto valor que merecen un análisis y tratamiento especial.\n",
    "\n",
    "- Segmentación: La gran diferencia entre la media y la mediana en Frequency y Monetary sugiere que una pequeña proporción de clientes contribuye significativamente al negocio. Una segmentación efectiva podría ayudar a identificar y manejar estos grupos de manera diferenciada.\n",
    "\n",
    "- Estrategias diferenciadas:\n",
    "   - Para clientes con alta recencia (>327 días), considerar campañas de reactivación.\n",
    "   - Para los outliers superiores en Frequency y Monetary, desarrollar programas de fidelización y retención especiales.\n",
    "   - Para la mayoría de los clientes (que están por debajo de la mediana en Frequency y Monetary), diseñar estrategias para aumentar su frecuencia de compra y valor.\n",
    "\n",
    "- Preparación para clustering:\n",
    "   - Aplicar transformación logarítmica a Frequency y Monetary.\n",
    "   - Normalizar todas las variables.\n",
    "   - Al interpretar los resultados del clustering, prestar especial atención a cómo se agrupan los outliers."
   ]
  },
  {
   "cell_type": "code",
   "execution_count": null,
   "id": "7fa1981c-b4bc-4d3a-aaef-34d7da989fff",
   "metadata": {},
   "outputs": [],
   "source": [
    "def identify_outliers(df, column):\n",
    "    Q1 = df[column].quantile(0.25)\n",
    "    Q3 = df[column].quantile(0.75)\n",
    "    IQR = Q3 - Q1\n",
    "    lower_bound = Q1 - 1.5 * IQR\n",
    "    upper_bound = Q3 + 1.5 * IQR\n",
    "    outliers = df[(df[column] < lower_bound) | (df[column] > upper_bound)]\n",
    "    return outliers, lower_bound, upper_bound\n",
    "\n",
    "for column in ['recency', 'frequency', 'monetary']:\n",
    "    outliers, lower, upper = identify_outliers(rfm, column)\n",
    "    print(f\"\\nOutliers en {column}:\")\n",
    "    print(f\"Número de outliers: {len(outliers)}\")\n",
    "    print(f\"Límite inferior: {lower}\")\n",
    "    print(f\"Límite superior: {upper}\")\n",
    "    print(outliers.head())\n",
    "\n",
    "\n",
    "def extreme_outliers(df, column, factor=3):\n",
    "    Q1 = df[column].quantile(0.25)\n",
    "    Q3 = df[column].quantile(0.75)\n",
    "    IQR = Q3 - Q1\n",
    "    lower_bound = Q1 - factor * IQR\n",
    "    upper_bound = Q3 + factor * IQR\n",
    "    extremes = df[(df[column] < lower_bound) | (df[column] > upper_bound)]\n",
    "    return extremes\n",
    "\n",
    "for column in ['recency', 'frequency', 'monetary']:\n",
    "    extremes = extreme_outliers(rfm, column)\n",
    "    print(f\"\\nOutliers extremos en {column}:\")\n",
    "    print(f\"Número de outliers extremos: {len(extremes)}\")\n",
    "    print(extremes.head())\n",
    "\n",
    "def plot_distribution_with_without_outliers(df, column):\n",
    "    outliers, lower, upper = identify_outliers(df, column)\n",
    "    non_outliers = df[(df[column] >= lower) & (df[column] <= upper)]\n",
    "    \n",
    "    plt.figure(figsize=(12, 5))\n",
    "    plt.subplot(121)\n",
    "    sns.histplot(df[column], kde=True)\n",
    "    plt.title(f'Distribución de {column} con outliers')\n",
    "    \n",
    "    plt.subplot(122)\n",
    "    sns.histplot(non_outliers[column], kde=True)\n",
    "    plt.title(f'Distribución de {column} sin outliers')\n",
    "    \n",
    "    plt.tight_layout()\n",
    "    plt.show()\n",
    "\n",
    "for column in ['recency', 'frequency', 'monetary']:\n",
    "    plot_distribution_with_without_outliers(rfm, column)"
   ]
  },
  {
   "cell_type": "markdown",
   "id": "2a41bb01-19ae-4608-bf2f-1c3caa101e6a",
   "metadata": {},
   "source": [
    "### Distribuciones sin Outliers en Frequency y Monetary"
   ]
  },
  {
   "cell_type": "code",
   "execution_count": null,
   "id": "71fc92a4-8225-4e51-a7ed-314c58e32b22",
   "metadata": {},
   "outputs": [],
   "source": [
    "# Función para remover outliers\n",
    "def remove_outliers(df, columns):\n",
    "    df_clean = df.copy()\n",
    "    for column in columns:\n",
    "        Q1 = df_clean[column].quantile(0.25)\n",
    "        Q3 = df_clean[column].quantile(0.75)\n",
    "        IQR = Q3 - Q1\n",
    "        lower_bound = Q1 - 1.5 * IQR\n",
    "        upper_bound = Q3 + 1.5 * IQR\n",
    "        df_clean = df_clean[(df_clean[column] >= lower_bound) & (df_clean[column] <= upper_bound)]\n",
    "    return df_clean\n",
    "\n",
    "# Actualizar rfm eliminando outliers de 'monetary' y 'frequency'\n",
    "rfm = remove_outliers(rfm, ['monetary', 'frequency'])\n",
    "\n",
    "# Imprimir información sobre el nuevo DataFrame\n",
    "print(f\"Tamaño del DataFrame rfm actualizado: {len(rfm)}\")\n",
    "print(\"\\nEstadísticas descriptivas del rfm actualizado:\")\n",
    "print(rfm.describe())\n",
    "\n",
    "plt.figure(figsize=(15, 5))\n",
    "\n",
    "plt.subplot(131)\n",
    "sns.histplot(data=rfm, x='recency', kde=True)\n",
    "plt.title('Distribución de Recency')\n",
    "\n",
    "plt.subplot(132)\n",
    "sns.histplot(data=rfm, x='frequency', kde=True)\n",
    "plt.title('Distribución de Frequency (sin outliers)')\n",
    "\n",
    "plt.subplot(133)\n",
    "sns.histplot(data=rfm, x='monetary', kde=True)\n",
    "plt.title('Distribución de Monetary (sin outliers)')\n",
    "\n",
    "plt.tight_layout()\n",
    "plt.show()"
   ]
  },
  {
   "cell_type": "code",
   "execution_count": null,
   "id": "33581376-63f4-4652-8279-974aa2c1bc33",
   "metadata": {},
   "outputs": [],
   "source": [
    "# Scatter plots para visualizar relaciones entre métricas\n",
    "plt.figure(figsize=(15, 5))\n",
    "plt.subplot(131)\n",
    "sns.scatterplot(data=rfm, x='recency', y='frequency')\n",
    "plt.title('Recency vs Frequency')\n",
    "plt.subplot(132)\n",
    "sns.scatterplot(data=rfm, x='recency', y='monetary')\n",
    "plt.title('Recency vs Monetary')\n",
    "plt.subplot(133)\n",
    "sns.scatterplot(data=rfm, x='frequency', y='monetary')\n",
    "plt.title('Frequency vs Monetary')\n",
    "plt.tight_layout()\n",
    "plt.show()"
   ]
  },
  {
   "cell_type": "markdown",
   "id": "b60f94a8-bbae-4996-b145-a208317c9c14",
   "metadata": {},
   "source": [
    "- Recency vs Frequency: Muestra una concentración de puntos en la esquina inferior izquierda, indicando que muchos clientes tienen baja recencia y baja frecuencia. Hay algunos outliers con frecuencia muy alta.\n",
    "- Recency vs Monetary: Similar al anterior, con la mayoría de los puntos concentrados en valores bajos, pero con algunos outliers de alto valor monetario.\n",
    "- Frequency vs Monetary: Muestra una relación positiva más clara, con algunos clientes destacando por tener valores muy altos en ambas métricas."
   ]
  },
  {
   "cell_type": "code",
   "execution_count": null,
   "id": "3275c105-ce29-49b7-8b5a-ca87eed0e22e",
   "metadata": {},
   "outputs": [],
   "source": [
    "# Calcular la matriz de correlación\n",
    "corr_matrix = rfm[['recency', 'frequency', 'monetary']].corr()\n",
    "\n",
    "print(\"Matriz de correlación:\")\n",
    "print(corr_matrix)\n",
    "print(\"\\n\")\n",
    "\n",
    "# Función para describir la relación entre dos variables\n",
    "def describe_relationship(x, y, x_name, y_name):\n",
    "    print(f\"Relación entre {x_name} y {y_name}:\")\n",
    "    print(f\"Correlación: {x.corr(y):.4f}\")\n",
    "    print(f\"Covarianza: {x.cov(y):.4f}\")\n",
    "    print(f\"{x_name} - Media: {x.mean():.4f}, Desviación estándar: {x.std():.4f}\")\n",
    "    print(f\"{y_name} - Media: {y.mean():.4f}, Desviación estándar: {y.std():.4f}\")\n",
    "    print(\"\\n\")\n",
    "\n",
    "# Describir las relaciones\n",
    "describe_relationship(rfm['recency'], rfm['frequency'], 'Recency', 'Frequency')\n",
    "describe_relationship(rfm['recency'], rfm['monetary'], 'Recency', 'Monetary')\n",
    "describe_relationship(rfm['frequency'], rfm['monetary'], 'Frequency', 'Monetary')\n",
    "\n",
    "# Matriz de correlación\n",
    "plt.figure(figsize=(10, 8))\n",
    "sns.heatmap(rfm.corr(), annot=True, cmap='coolwarm', linewidths=0.5)\n",
    "plt.title('Matriz de Correlación RFM')\n",
    "plt.show()"
   ]
  },
  {
   "cell_type": "markdown",
   "id": "62158c7b-a65b-47cd-ae70-3acf1fb0ad85",
   "metadata": {},
   "source": [
    "Recency y Frequency: \n",
    "- -La correlación entre Recency y Frequency es negativa (-0.3514), lo que indica que a medida que la Recency aumenta, la Frequency tiende a disminuir, y viceversa. Esto podría sugerir que los clientes que han comprado más recientemente tienden a hacer compras con menos frecuencia.\n",
    "\n",
    "Recency y Monetary: \n",
    "- La correlación entre Recency y Monetary también es negativa (-0.3275), lo que sugiere que los clientes que han comprado más recientemente tienden a gastar menos, y viceversa. Esto podría indicar que los clientes que gastan más tienden a hacerlo en compras menos frecuentes.\n",
    "\n",
    "- Frequency y Monetary: La correlación entre Frequency y Monetary es positiva (0.6733), lo que indica que a medida que la Frequency aumenta, la Monetary también tiende a aumentar. Esto sugiere que los clientes que hacen compras con más frecuencia también tienden a gastar más en total.\n",
    "\n",
    "Estas son solo observaciones generales y podrían no aplicarse a todos los clientes. También es importante tener en cuenta otros factores que podrían influir en estas relaciones."
   ]
  },
  {
   "cell_type": "code",
   "execution_count": null,
   "id": "094859d8-3f72-4315-aff3-b06d3b2ce276",
   "metadata": {},
   "outputs": [],
   "source": [
    "# Estadísticas descriptivas\n",
    "print(rfm.describe())\n",
    "\n",
    "# Asimetría y curtosis\n",
    "print(\"\\nAsimetría:\")\n",
    "print(rfm.skew())\n",
    "print(\"\\nCurtosis:\")\n",
    "print(rfm.kurtosis())"
   ]
  },
  {
   "cell_type": "markdown",
   "id": "55d627fa-923e-4cf9-bcd4-1afd969fdf3b",
   "metadata": {},
   "source": [
    "- La asimetría es una medida de la falta de simetría en la distribución de los datos. Un valor de asimetría **positivo** indica una distribución con cola a la derecha o sesgada a la derecha.\n",
    "\n",
    "- La curtosis es una medida de la **pesadez** de las colas de una distribución. En comparación con una distribución normal, un valor de curtosis positivo indica colas más pesadas (más propensas a tener valores extremos), mientras que un valor negativo indica colas más ligeras (menos propensas a tener valores extremos)."
   ]
  },
  {
   "cell_type": "markdown",
   "id": "529ae00f-1dda-481a-81a2-8b80505116a0",
   "metadata": {},
   "source": [
    "### Segmentación de clientes (Clustering)"
   ]
  },
  {
   "cell_type": "code",
   "execution_count": null,
   "id": "40cd9bdf-9b24-44ac-8b35-11277c10d4ee",
   "metadata": {},
   "outputs": [],
   "source": [
    "# Aplicar transformación logarítmica\n",
    "rfm['log_frequency'] = np.log1p(rfm['frequency'])\n",
    "rfm['log_monetary'] = np.log1p(rfm['monetary'])"
   ]
  },
  {
   "cell_type": "code",
   "execution_count": null,
   "id": "b539b83e-fa76-4ac3-98c4-8b48b7008459",
   "metadata": {},
   "outputs": [],
   "source": [
    "# Crear un nuevo DataFrame con las variables transformadas\n",
    "rfm_normalized = rfm[['recency', 'log_frequency', 'log_monetary']].copy()\n",
    "\n",
    "# Normalizar las variables\n",
    "scaler = StandardScaler()\n",
    "rfm_normalized = pd.DataFrame(scaler.fit_transform(rfm_normalized), \n",
    "                              columns=['recency', 'log_frequency', 'log_monetary'], \n",
    "                              index=rfm.index)"
   ]
  },
  {
   "cell_type": "code",
   "execution_count": null,
   "id": "cb030834-c459-4d76-af4b-cb559b8ba488",
   "metadata": {},
   "outputs": [],
   "source": [
    "# Función para calcular la inercia (suma de las distancias al cuadrado)\n",
    "def calculate_inertia(data, k_range):\n",
    "    inertias = []\n",
    "    for k in k_range:\n",
    "        kmeans = KMeans(n_clusters=k, random_state=42)\n",
    "        kmeans.fit(data)\n",
    "        inertias.append(kmeans.inertia_)\n",
    "    return inertias\n",
    "\n",
    "# Función para calcular el score de silueta\n",
    "def calculate_silhouette(data, k_range):\n",
    "    silhouette_scores = []\n",
    "    for k in k_range:\n",
    "        kmeans = KMeans(n_clusters=k, random_state=42)\n",
    "        labels = kmeans.fit_predict(data)\n",
    "        score = silhouette_score(data, labels)\n",
    "        silhouette_scores.append(score)\n",
    "    return silhouette_scores\n",
    "\n",
    "# Rango de número de clusters a probar\n",
    "k_range = range(2, 25)\n",
    "\n",
    "# Calcular inercia y score de silueta\n",
    "inertias = calculate_inertia(rfm_normalized, k_range)\n",
    "silhouette_scores = calculate_silhouette(rfm_normalized, k_range)\n",
    "\n",
    "# Visualizar el método del codo\n",
    "plt.figure(figsize=(12, 5))\n",
    "plt.subplot(121)\n",
    "plt.plot(k_range, inertias, marker='o')\n",
    "plt.xlabel('Número de clusters (k)')\n",
    "plt.ylabel('Inercia')\n",
    "plt.title('Método del Codo')\n",
    "\n",
    "plt.subplot(122)\n",
    "plt.plot(k_range, silhouette_scores, marker='o')\n",
    "plt.xlabel('Número de clusters (k)')\n",
    "plt.ylabel('Score de Silueta')\n",
    "plt.title('Método de la Silueta')\n",
    "\n",
    "plt.tight_layout()\n",
    "plt.show()"
   ]
  },
  {
   "cell_type": "markdown",
   "id": "4cbe35fe-8645-471b-8bca-ea190fd4e0f2",
   "metadata": {},
   "source": [
    "- Número óptimo de clusters:\n",
    "El gráfico del método del codo muestra una disminución pronunciada de la inercia hasta aproximadamente 4-5 clusters, después de lo cual la disminución se vuelve más gradual. El gráfico del score de silueta muestra valores más altos para números menores de clusters, con un pico local alrededor de 4-5 clusters. El código establece optimal_k = 4, lo cual concuerda con estas observaciones."
   ]
  },
  {
   "cell_type": "code",
   "execution_count": null,
   "id": "e9191d8d-2a05-46d9-9b60-4c8ae65c2fc6",
   "metadata": {},
   "outputs": [],
   "source": [
    "# Supongamos que el número óptimo de clusters es 5 (ajusta según tus resultados)\n",
    "optimal_k = 5\n",
    "\n",
    "kmeans = KMeans(n_clusters=optimal_k, random_state=42)\n",
    "rfm['Cluster'] = kmeans.fit_predict(rfm_normalized)\n",
    "\n",
    "# Añadir los clusters al DataFrame original\n",
    "rfm_with_clusters = rfm.copy()\n",
    "rfm_with_clusters['Cluster'] = rfm['Cluster']"
   ]
  },
  {
   "cell_type": "code",
   "execution_count": null,
   "id": "8c46e9ad-0dfa-4c41-8e15-d1ed7913f5c0",
   "metadata": {},
   "outputs": [],
   "source": [
    "# Estadísticas descriptivas por cluster\n",
    "cluster_stats = rfm_with_clusters.groupby('Cluster').agg({\n",
    "    'recency': 'mean',\n",
    "    'frequency': 'mean',\n",
    "    'monetary': 'mean'\n",
    "})\n",
    "\n",
    "# Añadir el conteo de clientes por cluster\n",
    "cluster_stats['count'] = rfm_with_clusters.groupby('Cluster').size()\n",
    "\n",
    "print(\"Estadísticas por cluster:\")\n",
    "print(cluster_stats)\n",
    "\n",
    "# Visualizar los clusters\n",
    "plt.figure(figsize=(12, 8))\n",
    "scatter = plt.scatter(rfm_normalized['log_frequency'], \n",
    "                      rfm_normalized['log_monetary'], \n",
    "                      c=rfm['Cluster'], \n",
    "                      cmap='viridis')\n",
    "plt.xlabel('Log Frequency (Normalizado)')\n",
    "plt.ylabel('Log Monetary (Normalizado)')\n",
    "plt.title('Clusters de Clientes')\n",
    "plt.colorbar(scatter)\n",
    "plt.show()"
   ]
  },
  {
   "cell_type": "markdown",
   "id": "98eb37ba-dba3-409c-92c3-ac59c7051bfb",
   "metadata": {},
   "source": [
    "### Clientes de alto valor (Cluster 4):\n",
    "- **Estrategia**: Programas de fidelización, ofertas exclusivas, servicio premium.\n",
    "- **Objetivo**: Mantener su alta frecuencia de compra y aumentar el valor por compra.\n",
    "\n",
    "### Clientes activos de valor medio (Cluster 3):\n",
    "- **Estrategia**: Incentivos para aumentar el valor de compra, cross-selling.\n",
    "- **Objetivo**: Incrementar el valor monetario de sus compras.\n",
    "\n",
    "### Clientes recientes de bajo valor (Cluster 2):\n",
    "- **Estrategia**: Campañas para aumentar la frecuencia de compra, ofertas atractivas.\n",
    "- **Objetivo**: Convertirlos en clientes más frecuentes y de mayor valor.\n",
    "\n",
    "### Clientes de valor medio con baja recencia (Cluster 0):\n",
    "- **Estrategia**: Campañas de reactivación, ofertas personalizadas basadas en compras anteriores.\n",
    "- **Objetivo**: Reducir el tiempo desde la última compra y aumentar la frecuencia.\n",
    "\n",
    "### Clientes inactivos de bajo valor (Cluster 1):\n",
    "- **Estrategia**: Campañas de reactivación agresivas, encuestas para entender la inactividad.\n",
    "- **Objetivo**: Recuperar estos clientes o decidir si vale la pena invertir en ellos.\n",
    "\n",
    "**Observaciones generales:**\n",
    "\n",
    "Los clusters 3 y 4 (clientes activos y de alto valor) representan la mayor parte de la base de clientes (2115 de 3662, o 57.8%).\n",
    "Hay una clara diferenciación entre los segmentos en términos de comportamiento de compra.\n",
    "La recencia parece ser un factor importante en la segmentación, con una clara distinción entre clientes activos e inactivos."
   ]
  },
  {
   "cell_type": "code",
   "execution_count": null,
   "id": "3fc6ccd8-8be1-47ee-a92d-a3281ce6fdf4",
   "metadata": {},
   "outputs": [],
   "source": [
    "# Gráfico 3D\n",
    "fig = plt.figure(figsize=(10, 8))\n",
    "ax = fig.add_subplot(111, projection='3d')\n",
    "\n",
    "scatter = ax.scatter(rfm['recency'], rfm['frequency'], rfm['monetary'], \n",
    "                     c=rfm['Cluster'], cmap='viridis')\n",
    "\n",
    "ax.set_xlabel('Recency')\n",
    "ax.set_ylabel('Frequency')\n",
    "ax.set_zlabel('Monetary')\n",
    "plt.title('Visualización 3D de Clusters RFM')\n",
    "plt.colorbar(scatter)\n",
    "plt.show()\n",
    "\n",
    "# Gráficos 2D\n",
    "fig, axes = plt.subplots(1, 3, figsize=(20, 6))\n",
    "\n",
    "axes[0].scatter(rfm['recency'], rfm['frequency'], c=rfm['Cluster'], cmap='viridis')\n",
    "axes[0].set_xlabel('Recency')\n",
    "axes[0].set_ylabel('Frequency')\n",
    "axes[0].set_title('Recency vs Frequency')\n",
    "\n",
    "axes[1].scatter(rfm['recency'], rfm['monetary'], c=rfm['Cluster'], cmap='viridis')\n",
    "axes[1].set_xlabel('Recency')\n",
    "axes[1].set_ylabel('Monetary')\n",
    "axes[1].set_title('Recency vs Monetary')\n",
    "\n",
    "axes[2].scatter(rfm['frequency'], rfm['monetary'], c=rfm['Cluster'], cmap='viridis')\n",
    "axes[2].set_xlabel('Frequency')\n",
    "axes[2].set_ylabel('Monetary')\n",
    "axes[2].set_title('Frequency vs Monetary')\n",
    "\n",
    "plt.tight_layout()\n",
    "plt.show()"
   ]
  },
  {
   "cell_type": "code",
   "execution_count": null,
   "id": "75715475-6ab9-42e2-8aac-cd0d3bcc95fc",
   "metadata": {},
   "outputs": [],
   "source": [
    "# Asumiendo que tenemos información adicional como 'product_category' y 'purchase_month'\n",
    "for cluster in rfm['Cluster'].unique():\n",
    "    cluster_data = rfm[rfm['Cluster'] == cluster]\n",
    "    \n",
    "    print(f\"\\nAnálisis detallado del Cluster {cluster}:\")\n",
    "    print(f\"Número de clientes: {len(cluster_data)}\")\n",
    "    print(\"\\nEstadísticas RFM:\")\n",
    "    print(cluster_data[['recency', 'frequency', 'monetary']].describe())\n",
    "    \n",
    "    # Análisis de productos (si está disponible)\n",
    "    if 'product_category' in rfm.columns:\n",
    "        print(\"\\nTop 5 categorías de productos:\")\n",
    "        print(cluster_data['product_category'].value_counts().head())\n",
    "    \n",
    "    # Análisis de estacionalidad (si está disponible)\n",
    "    if 'purchase_month' in rfm.columns:\n",
    "        print(\"\\nDistribución de compras por mes:\")\n",
    "        print(cluster_data['purchase_month'].value_counts().sort_index())\n",
    "    \n",
    "    print(\"\\n\" + \"=\"*50)"
   ]
  },
  {
   "cell_type": "markdown",
   "id": "270cfc3d-5900-46b3-abaf-6ecce5d01eb3",
   "metadata": {},
   "source": [
    "Claro, aquí tienes la información en formato Markdown:\n",
    "\n",
    "# Análisis de Clusters RFM\n",
    "\n",
    "## Resumen de Clusters\n",
    "\n",
    "| Cluster | Nombre | Recencia (días) | Frecuencia | Monetario ($) | Clientes |\n",
    "|---------|--------|-----------------|------------|---------------|----------|\n",
    "| 4 | Clientes de alto valor | 41 | 93.5 | 1,669 | 1,052 |\n",
    "| 3 | Clientes activos de valor medio | 48 | 36.7 | 601 | 1,063 |\n",
    "| 2 | Clientes recientes de bajo valor | 67 | 10.5 | 226 | 594 |\n",
    "| 0 | Clientes de valor medio con baja recencia | 240 | 36.1 | 563 | 549 |\n",
    "| 1 | Clientes inactivos de bajo valor | 278 | 8.5 | 191 | 404 |\n",
    "\n",
    "## Análisis Detallado por Cluster\n",
    "\n",
    "### Cluster 4: Clientes de alto valor\n",
    "- **Características**: Muy activos, alta frecuencia, alto valor\n",
    "- **Estrategia**: Retención y maximización de valor\n",
    "- **Acciones**:\n",
    "  1. Implementar programa VIP exclusivo\n",
    "  2. Ofrecer acceso anticipado a nuevos productos\n",
    "  3. Proporcionar servicio al cliente dedicado\n",
    "\n",
    "### Cluster 3: Clientes activos de valor medio\n",
    "- **Características**: Activos, frecuencia media, valor medio\n",
    "- **Estrategia**: Incremento de valor por compra\n",
    "- **Acciones**:\n",
    "  1. Crear programa de escalado de compras\n",
    "  2. Ofrecer paquetes de productos para aumentar el valor por transacción\n",
    "  3. Desarrollar contenido educativo sobre productos premium\n",
    "\n",
    "### Cluster 2: Clientes recientes de bajo valor\n",
    "- **Características**: Recientes, baja frecuencia, bajo valor\n",
    "- **Estrategia**: Aumento de frecuencia y valor\n",
    "- **Acciones**:\n",
    "  1. Lanzar campaña de \"segunda compra\" con incentivos\n",
    "  2. Implementar sistema de recomendaciones personalizadas\n",
    "  3. Introducir programa de fidelización básico\n",
    "\n",
    "### Cluster 0: Clientes de valor medio con baja recencia\n",
    "- **Características**: Baja recencia, frecuencia media, valor medio\n",
    "- **Estrategia**: Reactivación personalizada\n",
    "- **Acciones**:\n",
    "  1. Desarrollar campaña \"te extrañamos\" con ofertas especiales\n",
    "  2. Enviar recordatorios de productos previamente comprados\n",
    "  3. Realizar encuesta para entender razones de inactividad\n",
    "\n",
    "### Cluster 1: Clientes inactivos de bajo valor\n",
    "- **Características**: Muy baja recencia, baja frecuencia, bajo valor\n",
    "- **Estrategia**: Recuperación y reactivación\n",
    "- **Acciones**:\n",
    "  1. Lanzar campaña de \"última oportunidad\" con descuentos significativos\n",
    "  2. Implementar programa de reactivación por etapas\n",
    "  3. Evaluar ROI de marketing para este grupo\n",
    "\n",
    "## Próximos Pasos\n",
    "\n",
    "1. Implementar sistema de puntuación RFM continuo\n",
    "2. Desarrollar campañas de marketing específicas por cluster\n",
    "3. Establecer KPIs para medir éxito de estrategias\n",
    "4. Realizar análisis de cohortes para seguimiento de evolución de clientes\n",
    "5. Incorporar datos adicionales para segmentación más precisa\n",
    "\n",
    "## Observaciones Finales de la Segmentación\n",
    "\n",
    "- Clara segmentación en términos de valor y actividad del cliente\n",
    "- Clusters 3 y 4 representan la mayoría de la base de clientes\n",
    "- Oportunidad de mover clientes entre clusters adyacentes\n",
    "- Urgencia en estrategias de reactivación para clusters 0 y 1"
   ]
  },
  {
   "cell_type": "markdown",
   "id": "91d80345-9817-4593-abbd-e6432fbe531c",
   "metadata": {},
   "source": [
    "## Entrenamiento y prueba del modelo Bosque Aleatorio y Árbol de Decisión"
   ]
  },
  {
   "cell_type": "code",
   "execution_count": null,
   "id": "b7d9d7ca-8787-45f2-8440-4324bda17316",
   "metadata": {},
   "outputs": [],
   "source": [
    "# Vamos a dividir los datos en características (X) y objetivo (y)\n",
    "X = rfm.drop('Cluster', axis=1)\n",
    "y = rfm['Cluster']\n",
    "\n",
    "# Dividimos los datos en conjuntos de entrenamiento y prueba\n",
    "X_train, X_test, y_train, y_test = train_test_split(X, y, test_size=0.2, random_state=42)\n",
    "\n",
    "# Creamos un clasificador de bosques aleatorios\n",
    "clf = RandomForestClassifier(n_estimators=100, random_state=42)\n",
    "\n",
    "# Entrenamos el modelo\n",
    "clf.fit(X_train, y_train)\n",
    "\n",
    "# Hacemos predicciones en el conjunto de prueba\n",
    "y_pred = clf.predict(X_test)\n",
    "\n",
    "# Calculamos la precisión del modelo\n",
    "accuracy = accuracy_score(y_test, y_pred)\n",
    "\n",
    "# Imprimimos la precisión\n",
    "print(f\"La precisión del modelo de Bosques Aleatorios es {accuracy * 100:.2f}%\")"
   ]
  },
  {
   "cell_type": "code",
   "execution_count": null,
   "id": "2de9401c-fca1-4de2-8123-0b12ba39152b",
   "metadata": {},
   "outputs": [],
   "source": [
    "# Creamos un clasificador de árbol de decisión\n",
    "clf_dt = DecisionTreeClassifier(random_state=42)\n",
    "\n",
    "# Entrenamos el modelo de árbol de decisión\n",
    "clf_dt.fit(X_train, y_train)\n",
    "\n",
    "# Hacemos predicciones en el conjunto de prueba\n",
    "y_pred_dt = clf_dt.predict(X_test)\n",
    "\n",
    "# Calculamos la precisión del modelo\n",
    "accuracy_dt = accuracy_score(y_test, y_pred_dt)\n",
    "\n",
    "# Imprimimos la precisión\n",
    "print(f\"La precisión del modelo de Árbol de Decisión es {accuracy_dt * 100:.2f}%\")"
   ]
  }
 ],
 "metadata": {
  "kernelspec": {
   "display_name": "Python 3 (ipykernel)",
   "language": "python",
   "name": "python3"
  },
  "language_info": {
   "codemirror_mode": {
    "name": "ipython",
    "version": 3
   },
   "file_extension": ".py",
   "mimetype": "text/x-python",
   "name": "python",
   "nbconvert_exporter": "python",
   "pygments_lexer": "ipython3",
   "version": "3.11.5"
  }
 },
 "nbformat": 4,
 "nbformat_minor": 5
}
